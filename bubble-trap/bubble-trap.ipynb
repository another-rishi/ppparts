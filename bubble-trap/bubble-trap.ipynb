{
 "cells": [
  {
   "cell_type": "code",
   "execution_count": 8,
   "metadata": {},
   "outputs": [
    {
     "data": {
      "text/html": [
       "17.671458676442587 milliliter"
      ],
      "text/latex": [
       "$17.671458676442587\\ \\mathrm{milliliter}$"
      ],
      "text/plain": [
       "17.671458676442587 <Unit('milliliter')>"
      ]
     },
     "execution_count": 8,
     "metadata": {},
     "output_type": "execute_result"
    }
   ],
   "source": [
    "import numpy as np\n",
    "from pint import UnitRegistry\n",
    "\n",
    "units = UnitRegistry()\n",
    "\n",
    "h = 100 * units.mm\n",
    "r = 7.5 * units.mm\n",
    "\n",
    "V = np.pi * r**2 * h\n",
    "rho_h20 = (1 * units.ml) / (1 * units.cm**3)\n",
    "\n",
    "v = V * rho_h20\n",
    "v.to_compact()\n"
   ]
  }
 ],
 "metadata": {
  "kernelspec": {
   "display_name": "scipy",
   "language": "python",
   "name": "python3"
  },
  "language_info": {
   "codemirror_mode": {
    "name": "ipython",
    "version": 3
   },
   "file_extension": ".py",
   "mimetype": "text/x-python",
   "name": "python",
   "nbconvert_exporter": "python",
   "pygments_lexer": "ipython3",
   "version": "3.10.8"
  },
  "orig_nbformat": 4
 },
 "nbformat": 4,
 "nbformat_minor": 2
}
