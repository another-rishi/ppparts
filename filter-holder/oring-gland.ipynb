{
 "cells": [
  {
   "cell_type": "code",
   "execution_count": 40,
   "metadata": {},
   "outputs": [
    {
     "name": "stdout",
     "output_type": "stream",
     "text": [
      "o-ring dimensions\n",
      "id: 20.00 mm, od: 24.00 mm\n",
      "id: 0.79 in, od: 0.94 in\n",
      "3.1750000000000003 mm 1.2446000000000002 mm\n",
      "squeeze: 60.69 dimensionless\n",
      "gland fill: 74.02 dimensionless\n"
     ]
    },
    {
     "data": {
      "text/plain": [
       "array(0.125) * in"
      ]
     },
     "execution_count": 40,
     "metadata": {},
     "output_type": "execute_result"
    }
   ],
   "source": [
    "import numpy as np\n",
    "import quantities as pq\n",
    "\n",
    "nozzle = 0.4 * pq.mm\n",
    "r = 25/2 * pq.mm  # filter radius\n",
    "\n",
    "ring_id = 20 * pq.mm  # o-ring id\n",
    "ring_od = 24 * pq.mm\n",
    "ring_d = 2 * pq.mm  # o-ring diameter\n",
    "\n",
    "e = 1.51 * pq.mm  # gland depth\n",
    "# f = 2.90 * pq.mm  # gland width\n",
    "f = 2. * pq.mm  # gland width\n",
    "\n",
    "print(f\"o-ring dimensions\")\n",
    "print(f\"id: {ring_id:.2f}, od: {ring_od:.2f}\")\n",
    "print(f\"id: {ring_id.rescale('in'):.2f}, od: {ring_od.rescale('in'):.2f}\")\n",
    "f, e = (0.125 * pq.inch).rescale('mm'), (0.049 * pq.inch).rescale('mm')\n",
    "print(f, e)\n",
    "# V = pi * r^2 * h\n",
    "V_gland = (np.pi * r**2 * e) - (np.pi * (ring_id/2 - nozzle * 2)**2 * e)\n",
    "# V_gland = (np.pi * r**2 * e) - (np.pi * (r-f)**2 * e)\n",
    "# V = (pi * r^2) * (2 * pi * R) # r = minor radius, R = major radius\n",
    "V_ring = (np.pi * (ring_d/2)**2) * (2* np.pi * ((ring_id + 1. * pq.mm)/2))\n",
    "\n",
    "compression = ((ring_d - e) / e)\n",
    "print(f\"squeeze: {compression*100:.2f}\")\n",
    "\n",
    "gland_fill = (V_ring/V_gland)\n",
    "print(f\"gland fill: {gland_fill*100:.2f}\")\n",
    "\n",
    "f.rescale('in')\n",
    "\n",
    "\n"
   ]
  }
 ],
 "metadata": {
  "kernelspec": {
   "display_name": "scipy",
   "language": "python",
   "name": "python3"
  },
  "language_info": {
   "codemirror_mode": {
    "name": "ipython",
    "version": 3
   },
   "file_extension": ".py",
   "mimetype": "text/x-python",
   "name": "python",
   "nbconvert_exporter": "python",
   "pygments_lexer": "ipython3",
   "version": "3.10.8"
  },
  "orig_nbformat": 4
 },
 "nbformat": 4,
 "nbformat_minor": 2
}
